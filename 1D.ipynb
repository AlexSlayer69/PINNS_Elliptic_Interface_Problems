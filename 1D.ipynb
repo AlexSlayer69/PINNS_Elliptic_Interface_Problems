{
 "cells": [
  {
   "cell_type": "markdown",
   "metadata": {},
   "source": [
    "### Imports"
   ]
  },
  {
   "cell_type": "code",
   "execution_count": null,
   "metadata": {},
   "outputs": [],
   "source": [
    "import math\n",
    "import numpy as np\n",
    "import matplotlib.pyplot as plt\n",
    "import torch\n",
    "import torch.nn as nn\n",
    "import torch.nn.functional as F\n",
    "import sys\n",
    "import os\n",
    "import warnings\n",
    "\n",
    "warnings.filterwarnings(\"ignore\")"
   ]
  },
  {
   "cell_type": "markdown",
   "metadata": {},
   "source": [
    "### Custom Imports"
   ]
  },
  {
   "cell_type": "code",
   "execution_count": null,
   "metadata": {},
   "outputs": [],
   "source": [
    "sys.path.append(os.path.abspath('./PINNS/'))\n",
    "sys.path.append(os.path.abspath('./PDE/'))\n",
    "sys.path.append(os.path.abspath('./Losses/'))\n",
    "from Poisson1D import Poisson1D\n",
    "from Naive1D import PINN1D\n",
    "from XPINN import XPINN\n",
    "from VDLNet import VDLNet\n",
    "from IPINN import IPINN\n",
    "from Poisson1DLosses import Poisson1DLosses"
   ]
  },
  {
   "cell_type": "code",
   "execution_count": null,
   "metadata": {},
   "outputs": [],
   "source": [
    "# Set the device to GPU if possible\n",
    "torch.cuda.empty_cache()\n",
    "device = torch.device(\"cuda:0\" if torch.cuda.is_available() else \"cpu\")\n",
    "print(device)"
   ]
  },
  {
   "cell_type": "markdown",
   "metadata": {},
   "source": [
    "## One Dimensional Elliptic Interface Problem"
   ]
  },
  {
   "cell_type": "markdown",
   "metadata": {},
   "source": [
    "\n",
    "\n",
    "We first take a 1D Poisson Equation as an example:\n",
    "<br /> Domain: $Ω = [0, 1]$ \n",
    "<br /> Interface Points:  $x = [0.2,0.4,0.6,0.8]$\n",
    "The governing PDE in each sub-domain $Ω_m$ (for $m = 1, 2, 3, 4, 5$), the boundary and interface conditions are\n",
    "\n",
    "- $\\frac{d}{dx}(κ_m\\frac{du_m}{dx}) = -1$ in $Ω_m$,\n",
    "- $u_1 = 0$ at $x = 0$ , $u_5 = 0$ at $x = 1$\n",
    "- $[[u_k]] = 0$ at $x = 0.2, 0.4, 0.6, 0.8$\n",
    "- $[[κ\\frac{du}{dx}]] = 0$ at $x = 0.2, 0.4, 0.6, 0.8$\n",
    "\n",
    "The material constants are given as $κ_1 = 1,κ_2 = 0.25, κ_3 = 0.9, κ_4 = 0.1$ and $κ_5 = 0.8$"
   ]
  },
  {
   "cell_type": "code",
   "execution_count": null,
   "metadata": {},
   "outputs": [],
   "source": [
    "#define the global parameters\n",
    "K = [1,0.25,0.9,0.1,0.8] \n",
    "gamma = [0,0.2,0.4,0.6,0.8,1] \n",
    "xs = np.arange(0,1,0.001)\n",
    "torch_xs = torch.arange(0,1,0.001,device=device).reshape(-1,1)\n",
    "num_pts = 2400\n",
    "lsobj = Poisson1DLosses(n_points = num_pts,sub_domains = len(K),K = K,gamma = gamma)"
   ]
  },
  {
   "cell_type": "code",
   "execution_count": null,
   "metadata": {},
   "outputs": [],
   "source": [
    "#Get the exact function\n",
    "poisson1d = Poisson1D(K,gamma)\n",
    "exact_val = poisson1d.equation(xs)\n",
    "poisson1d.plot(100)"
   ]
  },
  {
   "cell_type": "markdown",
   "metadata": {},
   "source": [
    "#### Traditional PINN"
   ]
  },
  {
   "cell_type": "code",
   "execution_count": null,
   "metadata": {},
   "outputs": [],
   "source": [
    "#define the model\n",
    "pinn = PINN1D(hidden_size = 10,depth = 3,act = nn.Tanh)\n",
    "# Set the loss function\n",
    "pinn.setLoss(lambda x: lsobj.loss(x,'pinn'))\n",
    "#train the model\n",
    "pinn.train(iterations = 1000)"
   ]
  },
  {
   "cell_type": "code",
   "execution_count": null,
   "metadata": {},
   "outputs": [],
   "source": [
    "#Get the final results\n",
    "pinn_pred = pinn.eval(torch_xs)\n",
    "pinn_rmse = math.sqrt(np.mean(np.square(pinn_pred.reshape(-1,)-exact_val)))\n",
    "pinn_l2 = math.sqrt(np.sum(np.square(pinn_pred.reshape(-1,)-exact_val))) / math.sqrt(np.sum(np.square(exact_val)))\n",
    "print('RMSE: ',pinn_rmse, 'Relative L2 Error: ',pinn_l2)"
   ]
  },
  {
   "cell_type": "markdown",
   "metadata": {},
   "source": [
    "### XPINN\n",
    "\n",
    "We train the model after domain decomposition"
   ]
  },
  {
   "cell_type": "code",
   "execution_count": null,
   "metadata": {},
   "outputs": [],
   "source": [
    "#define the model\n",
    "xpinn = XPINN(num_domains=len(K),dimension = 1,hidden_size = 10,depth = 3,act = nn.Tanh)\n",
    "# Set the loss function\n",
    "lsobj.reset()\n",
    "xpinn.setLoss(lambda x : lsobj.loss(x,'xpinn'))\n",
    "#train the model\n",
    "xpinn.train(iterations = 1000)"
   ]
  },
  {
   "cell_type": "code",
   "execution_count": null,
   "metadata": {},
   "outputs": [],
   "source": [
    "outputs = xpinn.eval(torch_xs)\n",
    "xpinn_pred = torch.zeros_like(outputs[0]).cpu().numpy().reshape(-1,)\n",
    "for i in range(len(K)):\n",
    "    ui = outputs[i].cpu().detach().numpy().reshape(-1,)\n",
    "    mask = (xs >= gamma[i]) & (xs <= gamma[i+1]) \n",
    "    xpinn_pred[mask] = ui[mask]          \n",
    "xpinn_rmse = math.sqrt(np.mean(np.square(xpinn_pred.reshape(-1,)-exact_val)))\n",
    "xpinn_l2 = math.sqrt(np.sum(np.square(xpinn_pred.reshape(-1,)-exact_val))) / math.sqrt(np.sum(np.square(exact_val)))\n",
    "print('RMSE: ',xpinn_rmse, 'Relative L2 Error: ',xpinn_l2)"
   ]
  },
  {
   "cell_type": "markdown",
   "metadata": {},
   "source": [
    "### Vector Dense Layer\n",
    "\n",
    "Each node in this NN gets its own activation funtion"
   ]
  },
  {
   "cell_type": "code",
   "execution_count": null,
   "metadata": {},
   "outputs": [],
   "source": [
    "#define activations\n",
    "act = [F.tanh,F.silu,F.relu,torch.sin,torch.cos]\n",
    "#define the model\n",
    "vdl = VDLNet(num_domains=len(K),activations = act,dimension = 1,hidden_size = 10,depth = 3)\n",
    "# Set the loss function\n",
    "lsobj.reset()\n",
    "vdl.setLoss(lambda x : lsobj.loss(x,'xpinn'))\n",
    "#train the model\n",
    "vdl.train(iterations = 1000)"
   ]
  },
  {
   "cell_type": "code",
   "execution_count": null,
   "metadata": {},
   "outputs": [],
   "source": [
    "outputs = vdl.eval(torch_xs)\n",
    "vdl_pred = torch.zeros_like(outputs[0]).cpu().numpy().reshape(-1,)\n",
    "for i in range(len(K)):\n",
    "    ui = outputs[i].cpu().detach().numpy().reshape(-1,)\n",
    "    mask = (xs >= gamma[i]) & (xs <= gamma[i+1]) \n",
    "    vdl_pred[mask] = ui[mask]          \n",
    "vdl_rmse = math.sqrt(np.mean(np.square(vdl_pred.reshape(-1,)-exact_val)))\n",
    "vdl_l2 = math.sqrt(np.sum(np.square(vdl_pred.reshape(-1,)-exact_val))) / math.sqrt(np.sum(np.square(exact_val)))\n",
    "print('RMSE: ',vdl_rmse, 'Relative L2 Error: ',vdl_l2)"
   ]
  },
  {
   "cell_type": "markdown",
   "metadata": {},
   "source": [
    "### IPINN\n",
    "We decompose the domain but instead of making multiple models we create a single one with multiple activation functions based on sub-domain"
   ]
  },
  {
   "cell_type": "code",
   "execution_count": null,
   "metadata": {},
   "outputs": [],
   "source": [
    "#define activation funtion\n",
    "def cond_func(x,condition):\n",
    "        if (condition == '0'):\n",
    "            return F.silu(x)\n",
    "        elif (condition == '1'):\n",
    "            return F.tanh(x)\n",
    "        elif (condition == '2'):\n",
    "            return F.silu(x)\n",
    "        elif(condition == '3'):\n",
    "            return F.tanh(x)  \n",
    "        elif(condition == '4'):\n",
    "            return F.silu(x)"
   ]
  },
  {
   "cell_type": "code",
   "execution_count": null,
   "metadata": {},
   "outputs": [],
   "source": [
    "#define the model\n",
    "ipinn = IPINN(dimension=1,hidden_size=10,depth=3)\n",
    "# Set the loss function\n",
    "lsobj.reset()\n",
    "ipinn.setLoss(lambda x : lsobj.loss(x,'ipinn',cond_func))\n",
    "#train the model\n",
    "ipinn.train(iterations = 1000)"
   ]
  },
  {
   "cell_type": "code",
   "execution_count": null,
   "metadata": {},
   "outputs": [],
   "source": [
    "#Final Results\n",
    "activations = [F.silu,F.tanh,F.silu,F.tanh,F.silu]\n",
    "outputs = ipinn.eval(torch_xs,activations)\n",
    "ipinn_pred = torch.zeros_like(outputs[0]).cpu().numpy().reshape(-1,)\n",
    "for i in range(len(K)):\n",
    "    ui = outputs[i].cpu().detach().numpy().reshape(-1,)\n",
    "    mask = (xs >= gamma[i]) & (xs <= gamma[i+1]) \n",
    "    ipinn_pred[mask] = ui[mask]          \n",
    "ipinn_rmse = math.sqrt(np.mean(np.square(ipinn_pred.reshape(-1,)-exact_val)))\n",
    "ipinn_l2 = math.sqrt(np.sum(np.square(ipinn_pred.reshape(-1,)-exact_val))) / math.sqrt(np.sum(np.square(exact_val)))\n",
    "print('RMSE: ',ipinn_rmse, 'Relative L2 Error: ',ipinn_l2)"
   ]
  },
  {
   "cell_type": "markdown",
   "metadata": {},
   "source": [
    "### Results"
   ]
  },
  {
   "cell_type": "code",
   "execution_count": null,
   "metadata": {},
   "outputs": [],
   "source": [
    "#Plots\n",
    "plt.figure(figsize=(5,4))    \n",
    "plt.plot(xs,exact_val,label = 'actual')\n",
    "plt.plot(xs,pinn_pred,label = 'PINN')\n",
    "plt.plot(xs,xpinn_pred,label = 'XPINN')\n",
    "plt.plot(xs,vdl_pred,label = 'VDL')\n",
    "plt.plot(xs,ipinn_pred,label = 'IPINN')\n",
    "plt.ylim(bottom=0,top = 0.5)\n",
    "plt.legend()\n",
    "plt.title('1D-Poisson')\n",
    "plt.show()"
   ]
  },
  {
   "cell_type": "markdown",
   "metadata": {},
   "source": [
    "### Results\n",
    "After running each model for an hour these were the results:\n",
    "\n",
    "Metric|PINN|XPINN|XPINN(VDL)|IPINN\n",
    "---|:---:|:---:|:---:|:---:\n",
    "RMSE|$6.0 × 10^{-2}$|$6.6× 10^{-3}$|$4.9 × 10^{-3}$|$1.2 × 10^{-1}$  \n",
    "Rel. L2|$2.8 \\times 10^{-1}$|$3.1× 10^{-2}$|$2.3 × 10^{-2}$|$5.6 × 10^{-1}$   \n",
    "\n",
    "All models had hidden layer size of $10$, depth of $3$ and were trained on $2400$ points\n",
    "\n",
    "On Running Each model for 1000 iterations: \n",
    "Metric|PINN|XPINN|XPINN(VDL)|IPINN\n",
    "---|:---:|:---:|:---:|:---:\n",
    "RMSE|$1.1 × 10^{-1}$|$2.6× 10^{-2}$|$8.5 × 10^{-3}$|$1.0 × 10^{-1}$  \n",
    "Rel. L2|$5.1 \\times 10^{-1}$|$1.2 × 10^{-1}$|$4.0 × 10^{-2}$|$4.8 × 10^{-1}$\n",
    "Time|39.7s|3m 27.9s|17m 49.6s|1m 6.0s      \n"
   ]
  }
 ],
 "metadata": {
  "kernelspec": {
   "display_name": "Python 3",
   "language": "python",
   "name": "python3"
  },
  "language_info": {
   "codemirror_mode": {
    "name": "ipython",
    "version": 3
   },
   "file_extension": ".py",
   "mimetype": "text/x-python",
   "name": "python",
   "nbconvert_exporter": "python",
   "pygments_lexer": "ipython3",
   "version": "3.10.6"
  }
 },
 "nbformat": 4,
 "nbformat_minor": 2
}
