{
  "cells": [
    {
      "cell_type": "markdown",
      "metadata": {},
      "source": [
        "### Imports"
      ]
    },
    {
      "cell_type": "code",
      "execution_count": null,
      "metadata": {
        "id": "qxpPGWQa_Nl1"
      },
      "outputs": [],
      "source": [
        "import torch\n",
        "import torch.nn as nn\n",
        "import torch.nn.functional as F\n",
        "import numpy as np\n",
        "import math\n",
        "import matplotlib.pyplot as plt\n",
        "from matplotlib.colors import Normalize,PowerNorm\n",
        "import matplotlib.cm as cm\n",
        "from tqdm.auto import tqdm\n",
        "import sys\n",
        "import os \n",
        "import warnings\n",
        "\n",
        "warnings.filterwarnings(\"ignore\")\n"
      ]
    },
    {
      "cell_type": "markdown",
      "metadata": {},
      "source": [
        "### Custom"
      ]
    },
    {
      "cell_type": "code",
      "execution_count": null,
      "metadata": {},
      "outputs": [],
      "source": [
        "sys.path.append(os.path.abspath('./PINNS/'))\n",
        "sys.path.append(os.path.abspath('./PDE/'))\n",
        "sys.path.append(os.path.abspath('./Losses/'))\n",
        "from Poisson2D import *\n",
        "from Poisson2DSTLosses import P2DSTLoss\n",
        "from PoissonCircLoss import CircLoss\n",
        "from IPINN import IPINN\n",
        "from VDLNet import VDLNet"
      ]
    },
    {
      "cell_type": "code",
      "execution_count": null,
      "metadata": {
        "colab": {
          "base_uri": "https://localhost:8080/"
        },
        "id": "MdQ3iIb0_Nl5",
        "outputId": "6921b567-35d9-47a9-b1c0-d18ce3c08538"
      },
      "outputs": [],
      "source": [
        "torch.cuda.empty_cache()\n",
        "device = torch.device(\"cuda:0\" if torch.cuda.is_available() else \"cpu\")\n",
        "device"
      ]
    },
    {
      "cell_type": "markdown",
      "metadata": {},
      "source": [
        "### Plotting Functions"
      ]
    },
    {
      "cell_type": "code",
      "execution_count": null,
      "metadata": {},
      "outputs": [],
      "source": [
        "def compare_contours(X,Y,exact,result,colormap = 'plasma',levels=10,nrange = (0,1)):\n",
        "    \"\"\"\n",
        "    Produces a contour plot comparing exact and predicted results\n",
        "    X,Y: Axes in form of meshgrids\n",
        "    exact: Analytical Solution\n",
        "    result: PINN solution\n",
        "    It will also return the RMSE and L2 errors \n",
        "    \"\"\"\n",
        "    res = np.sqrt(np.sum(np.square(exact - result)))/np.sqrt(np.sum(np.square(exact)))\n",
        "    rmse = np.sqrt(np.mean(np.square(exact- result)))\n",
        "    err = np.abs(exact - result)\n",
        "    \n",
        "    fig, axes = plt.subplots(1, 3,figsize=(18, 4))\n",
        "    cmap = cm.get_cmap(colormap)\n",
        "    normalizer = Normalize(nrange[0],nrange[1])\n",
        "    im = cm.ScalarMappable(norm = normalizer,cmap = colormap)\n",
        "    fig.colorbar(im, ax=axes.ravel().tolist())\n",
        "\n",
        "    axes[0].contourf(X, Y, result, levels=levels, cmap=colormap,norm = normalizer)\n",
        "    axes[0].set_title('Prediction')\n",
        "\n",
        "    axes[1].contourf(X, Y, exact , levels=levels, cmap=colormap,norm = normalizer)\n",
        "    axes[1].set_title('Actual')\n",
        "    \n",
        "    axes[2].contourf(X, Y, err , levels=levels, cmap=colormap,norm=normalizer)\n",
        "    axes[2].set_title('RMSE:{:.2e}, Rel. L2:{:.2e}'.format(rmse,res))\n",
        "    \n",
        "    plt.show()\n",
        "\n",
        "    res2 = np.sum(err)\n",
        "    print('L1: ',res2)"
      ]
    },
    {
      "cell_type": "code",
      "execution_count": null,
      "metadata": {},
      "outputs": [],
      "source": [
        "def plot_results3d(X,Y,exact,result,colormap = 'cividis'):\n",
        "    \"\"\"\n",
        "    Produces a surface plot comparing exact,predicted results and error between them\n",
        "    X,Y: Axes in form of meshgrids\n",
        "    exact: Analytical Solution\n",
        "    result: PINN solution\n",
        "    \"\"\"\n",
        "    fig,axes = plt.subplots(1,3,figsize=(18, 4),subplot_kw={'projection': '3d'})\n",
        "    error = exact - result\n",
        "    \n",
        "    axes[0].plot_surface(X, Y, result, cmap=colormap)\n",
        "    axes[0].set_xlabel('x')\n",
        "    axes[0].set_ylabel('y')\n",
        "    axes[0].set_zlabel('u')\n",
        "    axes[0].set_title('Predicted')\n",
        "    \n",
        "    axes[1].plot_surface(X, Y, exact, cmap=colormap)\n",
        "    axes[1].set_xlabel('x')\n",
        "    axes[1].set_ylabel('y')\n",
        "    axes[1].set_zlabel('u')\n",
        "    axes[1].set_title('Analytical Solution')\n",
        "    \n",
        "    axes[2].plot_surface(X, Y, error, cmap=colormap)\n",
        "    axes[2].set_xlabel('x')\n",
        "    axes[2].set_ylabel('y')\n",
        "    axes[2].set_zlabel('Error')\n",
        "    axes[2].set_title('Error')\n",
        "    \n",
        "    plt.show()"
      ]
    },
    {
      "cell_type": "markdown",
      "metadata": {},
      "source": [
        "## Two Dimensional Elliptical Interface Problems"
      ]
    },
    {
      "cell_type": "markdown",
      "metadata": {},
      "source": [
        "### 1. Poisson with a straight interface\n",
        "Domain: $Ω = [0, 1]×[0, 1]$, Interface: $Γ_{int} = {x : y = x}$ <br /> \n",
        "Sub-Domains: $Ω_1 = {x : y ≤ x} ⊂ Ω$ and $Ω_2 = {x : y > x} ⊂ Ω$ <br />\n",
        "\n",
        "The problem can be stated as:\n",
        "- $∇·(κ_m∇u_m) = 1$ in $Ω_m$\n",
        "- $um = Λ_m^d$ on $∂Ω_m^d$\n",
        "- $[[u]] = 0$ on $Γ_{int}$\n",
        "- $[[κ∇u]] · \\mathbf{n_2} = \\frac{−y}{√2}$ on $Γ_{int}$\n",
        "\n",
        "where $∂Ω_1^d = \\{ \\textbf{x} : x = 1 ∪ y = 0 \\}$ and $∂Ω_2^d = \\{ \\textbf{x} : x = 0 ∪ y = 1 \\}$ with dirchlet boundary conditions.<br /> \n",
        "Considering $κ_1 = 0.5$ and $κ_2 = 0.25$, the set of equations given have a closed-form analytical solution given as:\n",
        "$$ u(x) = \\left\\{\n",
        "            \\begin{array}{ll}\n",
        "                  x^2 + xy & \\text{in }  Ω_1\\\\ \n",
        "                  x^2 + y^2 & \\text{in } Ω_2\\\\\n",
        "            \\end{array}\n",
        "            \\right. $$\n",
        "The known boundary data $Λ_1^d$ and $Λ_2^d$ at the Dirichlet boundaries are prescribed according to $u(x)$"
      ]
    },
    {
      "cell_type": "code",
      "execution_count": null,
      "metadata": {
        "id": "ywYGI9Lm_Nl6"
      },
      "outputs": [],
      "source": [
        "K = [0.5,0.25]\n",
        "ls_st = P2DSTLoss(10000,100,100,K)\n",
        "#Get the exact function\n",
        "st_poiss = Poisson2DST()"
      ]
    },
    {
      "cell_type": "code",
      "execution_count": null,
      "metadata": {},
      "outputs": [],
      "source": [
        "h = 0.001\n",
        "# Generate a grid of points\n",
        "x = torch.arange(0, 1+h, h)\n",
        "y = torch.arange(0, 1+h, h)\n",
        "X, Y = torch.meshgrid(x, y)\n",
        "XY = torch.stack((X, Y), dim=-1).reshape(-1, 2).to(device)\n",
        "\n",
        "def getRes(outputs):\n",
        "    # Evaluate the models\n",
        "    u1, u2 = outputs[0],outputs[1]\n",
        "    # Initialize result array\n",
        "    result = torch.zeros_like(u1).cpu().numpy().reshape(X.shape)\n",
        "    \n",
        "    # Assign values based on the domain\n",
        "    u1 = u1.cpu().numpy().reshape(X.shape)\n",
        "    u2 = u2.cpu().numpy().reshape(X.shape)\n",
        "    mask = X > Y\n",
        "    result[mask] = u1[mask]\n",
        "    result[~mask] = u2[~mask]\n",
        "    \n",
        "    return result"
      ]
    },
    {
      "cell_type": "markdown",
      "metadata": {},
      "source": [
        "#### IPINN"
      ]
    },
    {
      "cell_type": "code",
      "execution_count": null,
      "metadata": {},
      "outputs": [],
      "source": [
        "#Get the activation function\n",
        "def cond_func(x,condition):\n",
        "    if (condition == '0'):\n",
        "        return F.silu(x)\n",
        "    elif (condition == '1'):\n",
        "        return F.tanh(x)"
      ]
    },
    {
      "cell_type": "code",
      "execution_count": null,
      "metadata": {
        "colab": {
          "base_uri": "https://localhost:8080/",
          "height": 790,
          "referenced_widgets": [
            "4ca04b6e435f48c7ae678252a9df3317",
            "5a589c15b7fc4f8dab8ac29e4cda8999",
            "755ea2a4908e454b8eead40345bda74b",
            "c512503928894470b14e80246834270c",
            "eb42ccc1e23e48599186b8bbf8100d52",
            "606a06587a5c48b2b2243ba5086b8760",
            "6a394411bfcd4ba2bb5428ba0eeca2bd",
            "21010a540a874ce9abe47a290d508943",
            "c6dc93fe857448088ee60795542ae028",
            "6ab1b38385db43c198326c60dff3a58b",
            "52867330335b42aaa227f1912128f50c"
          ]
        },
        "id": "NZYkkTYz_NmB",
        "outputId": "380315f7-14f3-4fdd-fea1-3ef142e0c453"
      },
      "outputs": [],
      "source": [
        "#define the model\n",
        "ipinn = IPINN(dimension = 2,hidden_size = 10,depth = 2)\n",
        "#Get the loss_function\n",
        "ls_st.reset()\n",
        "ipinn.setLoss(lambda x: ls_st.loss(x,'ipinn',cond_func))\n",
        "#Train the model\n",
        "ipinn.train(iterations = 30000)"
      ]
    },
    {
      "cell_type": "code",
      "execution_count": null,
      "metadata": {},
      "outputs": [],
      "source": [
        "#get the activations\n",
        "activations = [F.silu,F.tanh]\n",
        "#Plot the results\n",
        "outputs = ipinn.eval(XY,activations)\n",
        "result = getRes(outputs)\n",
        "exact_st = st_poiss.equation(X.cpu(),Y.cpu())\n",
        "compare_contours(X.cpu(),Y.cpu(),exact_st,result,colormap = 'cividis',levels=10,nrange=(0,2))"
      ]
    },
    {
      "cell_type": "code",
      "execution_count": null,
      "metadata": {},
      "outputs": [],
      "source": [
        "plot_results3d(X.cpu(),Y.cpu(),exact_st,result)"
      ]
    },
    {
      "cell_type": "markdown",
      "metadata": {},
      "source": [
        "#### XPINN(VDL)"
      ]
    },
    {
      "cell_type": "code",
      "execution_count": null,
      "metadata": {},
      "outputs": [],
      "source": [
        "#define the model\n",
        "activations = [F.tanh,F.silu,F.relu]\n",
        "xpinn = VDLNet(num_domains = 2,dimension = 2,activations = activations,hidden_size = 10,depth = 3)\n",
        "#Get the loss_function\n",
        "ls_st.reset()\n",
        "xpinn.setLoss(lambda x: ls_st.loss(x,'xpinn',cond_func))\n",
        "#Train the model\n",
        "xpinn.train(iterations = 10000)"
      ]
    },
    {
      "cell_type": "code",
      "execution_count": null,
      "metadata": {},
      "outputs": [],
      "source": [
        "#Plot the results\n",
        "outputs = xpinn.eval(XY)\n",
        "result = getRes(outputs)\n",
        "compare_contours(X.cpu(),Y.cpu(),exact_st,result,colormap = 'cividis',levels=10,nrange=(0,2))"
      ]
    },
    {
      "cell_type": "code",
      "execution_count": null,
      "metadata": {},
      "outputs": [],
      "source": [
        "plot_results3d(X.cpu(),Y.cpu(),exact_st,result)"
      ]
    },
    {
      "cell_type": "markdown",
      "metadata": {},
      "source": [
        "### 2. Poisson equation with circular interface\n",
        "\n",
        "$Ω=[−1,1]×[−1,1]$ with a circular interface, $Γ_{int}=\\{x:x^2+y^2=0.25\\}$, which subdivides the domain into two regions: <br/>\n",
        "$Ω_1=\\{x:x^2+y^2≤0.25\\}⊂Ω$ and $Ω_2=\\{x:x^2+y^2>0.25\\}⊂Ω$ <br/>\n",
        "The PDE is:\n",
        "- $∇⋅(κ_m∇u_m)=0$ in $Ω_m$\n",
        "- $u_2=1+$ log $2\\sqrt{x^2+y^2}$ on $∂Ω^d_2$\n",
        "- $〚u〛= 0$ on $Γ_{int}$\n",
        "- $〚κ∇u〛⋅\\mathbf{n_2}=−2κ_2$ on $Γ_{int}$\n",
        "\n",
        "where $∂Ω^d_2=\\{x:x=−1∪x=1∪y=−1∪y=1\\}$ is the external boundary. $κ_1 = 0.1$ and $κ_2 = 1$\n",
        "respectively.<br/> These set of Eqs. have the following closed-form solution:\n",
        "$$ u(x)=\\left\\{\n",
        "        \\begin{array}{ll}\n",
        "            1 & \\text{in } Ω_1 \\\\\n",
        "            1+log2\\sqrt{x^2+y^2} & \\text{in } Ω_2 \\\\\n",
        "        \\end{array}\n",
        "        \\right.$$\n"
      ]
    },
    {
      "cell_type": "code",
      "execution_count": null,
      "metadata": {},
      "outputs": [],
      "source": [
        "#Set the parameters\n",
        "K = [0.1,1]\n",
        "#Get loss function\n",
        "ls_circ = CircLoss(10000,100,100,K)\n",
        "#Get the exact function\n",
        "circ = Poisson2DCirc()"
      ]
    },
    {
      "cell_type": "code",
      "execution_count": null,
      "metadata": {},
      "outputs": [],
      "source": [
        "h = 0.001\n",
        "x = torch.arange(-1, 1+h, h)\n",
        "y = torch.arange(-1, 1+h, h)\n",
        "X, Y = torch.meshgrid(x, y)\n",
        "XY = torch.stack((X, Y), dim=-1).reshape(-1, 2).to(device)\n",
        "def getResCirc(outputs):\n",
        "    u1,u2 = outputs[0],outputs[1]\n",
        "    result = torch.zeros_like(u1).cpu().numpy().reshape(X.shape)\n",
        "    u1 = u1.cpu().numpy().reshape(X.shape)\n",
        "    u2 = u2.cpu().numpy().reshape(X.shape)\n",
        "    mask = X**2 + Y**2 <= 0.25\n",
        "    result[mask] = u1[mask]\n",
        "    result[~mask] = u2[~mask]\n",
        "        \n",
        "    return result"
      ]
    },
    {
      "cell_type": "markdown",
      "metadata": {},
      "source": [
        "#### IPINN"
      ]
    },
    {
      "cell_type": "code",
      "execution_count": null,
      "metadata": {},
      "outputs": [],
      "source": [
        "#Get the activation function\n",
        "def cond_func2(x,condition):\n",
        "    if(condition == '0'):\n",
        "        return F.silu(x)\n",
        "    elif(condition == '1'):\n",
        "        return F.tanh(x)"
      ]
    },
    {
      "cell_type": "code",
      "execution_count": null,
      "metadata": {},
      "outputs": [],
      "source": [
        "#define the model\n",
        "ipinn2 = IPINN(dimension = 2,hidden_size = 10,depth = 3)\n",
        "#Get the loss_function\n",
        "ipinn2.setLoss(lambda x: ls_circ.loss(x,'ipinn',cond_func2))\n",
        "#Train the model\n",
        "ipinn2.train(iterations = 100000)"
      ]
    },
    {
      "cell_type": "code",
      "execution_count": null,
      "metadata": {},
      "outputs": [],
      "source": [
        "activations = [F.silu,F.tanh]\n",
        "#Plot the results\n",
        "outputs = ipinn2.eval(XY,activations)\n",
        "result = getResCirc(outputs)\n",
        "exact_circ = circ.equation(X.cpu(),Y.cpu())\n",
        "compare_contours(X.cpu(),Y.cpu(),exact_circ,result,colormap = 'cividis',levels=10,nrange=(0,2))"
      ]
    },
    {
      "cell_type": "code",
      "execution_count": null,
      "metadata": {},
      "outputs": [],
      "source": [
        "plot_results3d(X.cpu(),Y.cpu(),exact_circ,result)"
      ]
    },
    {
      "cell_type": "markdown",
      "metadata": {},
      "source": [
        "#### XPINN(VDL)"
      ]
    },
    {
      "cell_type": "code",
      "execution_count": null,
      "metadata": {},
      "outputs": [],
      "source": [
        "#define the model\n",
        "activations = [F.tanh,F.silu,F.relu]\n",
        "xpinn2 = VDLNet(num_domains = 2,dimension = 2,activations = activations,hidden_size = 10,depth = 3)\n",
        "#Get the loss_function\n",
        "ls_circ.reset()\n",
        "xpinn2.setLoss(lambda x: ls_circ.loss(x,'xpinn',cond_func))\n",
        "#Train the model\n",
        "xpinn2.train(iterations = 10000)"
      ]
    },
    {
      "cell_type": "code",
      "execution_count": null,
      "metadata": {},
      "outputs": [],
      "source": [
        "#Plot the results\n",
        "outputs = xpinn2.eval(XY)\n",
        "result = getResCirc(outputs)\n",
        "compare_contours(X.cpu(),Y.cpu(),circ.equation(X.cpu(),Y.cpu()),result,colormap = 'plasma',levels=10,nrange=(0,2))"
      ]
    },
    {
      "cell_type": "code",
      "execution_count": null,
      "metadata": {},
      "outputs": [],
      "source": [
        "plot_results3d(X.cpu(),Y.cpu(),exact_circ,result)"
      ]
    },
    {
      "cell_type": "markdown",
      "metadata": {},
      "source": [
        "### Results\n",
        "\n",
        "After running each model for an hour these were the results:\n",
        "\n",
        "1. Poisson with a straight interface\n",
        "\n",
        "Metric|IPINN|XPINN(VDL)\n",
        "---|:---:|:---:\n",
        "RMSE|$2.0 × 10^{-4}$|$3.1× 10^{-1}$  \n",
        "Rel. L2|$2.4 \\times 10^{-4}$|$3.7× 10^{-1}$\n",
        "\n",
        "2. Poisson with a circular interface\n",
        "\n",
        "Metric|IPINN|XPINN(VDL)\n",
        "---|:---:|:---:\n",
        "RMSE|$4.2 × 10^{-3}$|$7.4× 10^{-1}$\n",
        "Rel. L2|$2.9 \\times 10^{-3}$|$5.1× 10^{-1}$\n",
        "\n",
        "All models had hidden layer size of $10$, depth of $3$ and were trained on $10^4$ points\n",
        "\n",
        "IPINN works better in higher dimensions "
      ]
    }
  ],
  "metadata": {
    "accelerator": "GPU",
    "colab": {
      "gpuType": "T4",
      "provenance": []
    },
    "kernelspec": {
      "display_name": "Python 3",
      "name": "python3"
    },
    "language_info": {
      "codemirror_mode": {
        "name": "ipython",
        "version": 3
      },
      "file_extension": ".py",
      "mimetype": "text/x-python",
      "name": "python",
      "nbconvert_exporter": "python",
      "pygments_lexer": "ipython3",
      "version": "3.10.6"
    },
    "widgets": {
      "application/vnd.jupyter.widget-state+json": {
        "21010a540a874ce9abe47a290d508943": {
          "model_module": "@jupyter-widgets/base",
          "model_module_version": "1.2.0",
          "model_name": "LayoutModel",
          "state": {
            "_model_module": "@jupyter-widgets/base",
            "_model_module_version": "1.2.0",
            "_model_name": "LayoutModel",
            "_view_count": null,
            "_view_module": "@jupyter-widgets/base",
            "_view_module_version": "1.2.0",
            "_view_name": "LayoutView",
            "align_content": null,
            "align_items": null,
            "align_self": null,
            "border": null,
            "bottom": null,
            "display": null,
            "flex": null,
            "flex_flow": null,
            "grid_area": null,
            "grid_auto_columns": null,
            "grid_auto_flow": null,
            "grid_auto_rows": null,
            "grid_column": null,
            "grid_gap": null,
            "grid_row": null,
            "grid_template_areas": null,
            "grid_template_columns": null,
            "grid_template_rows": null,
            "height": null,
            "justify_content": null,
            "justify_items": null,
            "left": null,
            "margin": null,
            "max_height": null,
            "max_width": null,
            "min_height": null,
            "min_width": null,
            "object_fit": null,
            "object_position": null,
            "order": null,
            "overflow": null,
            "overflow_x": null,
            "overflow_y": null,
            "padding": null,
            "right": null,
            "top": null,
            "visibility": null,
            "width": null
          }
        },
        "4ca04b6e435f48c7ae678252a9df3317": {
          "model_module": "@jupyter-widgets/controls",
          "model_module_version": "1.5.0",
          "model_name": "HBoxModel",
          "state": {
            "_dom_classes": [],
            "_model_module": "@jupyter-widgets/controls",
            "_model_module_version": "1.5.0",
            "_model_name": "HBoxModel",
            "_view_count": null,
            "_view_module": "@jupyter-widgets/controls",
            "_view_module_version": "1.5.0",
            "_view_name": "HBoxView",
            "box_style": "",
            "children": [
              "IPY_MODEL_5a589c15b7fc4f8dab8ac29e4cda8999",
              "IPY_MODEL_755ea2a4908e454b8eead40345bda74b",
              "IPY_MODEL_c512503928894470b14e80246834270c"
            ],
            "layout": "IPY_MODEL_eb42ccc1e23e48599186b8bbf8100d52"
          }
        },
        "52867330335b42aaa227f1912128f50c": {
          "model_module": "@jupyter-widgets/controls",
          "model_module_version": "1.5.0",
          "model_name": "DescriptionStyleModel",
          "state": {
            "_model_module": "@jupyter-widgets/controls",
            "_model_module_version": "1.5.0",
            "_model_name": "DescriptionStyleModel",
            "_view_count": null,
            "_view_module": "@jupyter-widgets/base",
            "_view_module_version": "1.2.0",
            "_view_name": "StyleView",
            "description_width": ""
          }
        },
        "5a589c15b7fc4f8dab8ac29e4cda8999": {
          "model_module": "@jupyter-widgets/controls",
          "model_module_version": "1.5.0",
          "model_name": "HTMLModel",
          "state": {
            "_dom_classes": [],
            "_model_module": "@jupyter-widgets/controls",
            "_model_module_version": "1.5.0",
            "_model_name": "HTMLModel",
            "_view_count": null,
            "_view_module": "@jupyter-widgets/controls",
            "_view_module_version": "1.5.0",
            "_view_name": "HTMLView",
            "description": "",
            "description_tooltip": null,
            "layout": "IPY_MODEL_606a06587a5c48b2b2243ba5086b8760",
            "placeholder": "​",
            "style": "IPY_MODEL_6a394411bfcd4ba2bb5428ba0eeca2bd",
            "value": "  1%"
          }
        },
        "606a06587a5c48b2b2243ba5086b8760": {
          "model_module": "@jupyter-widgets/base",
          "model_module_version": "1.2.0",
          "model_name": "LayoutModel",
          "state": {
            "_model_module": "@jupyter-widgets/base",
            "_model_module_version": "1.2.0",
            "_model_name": "LayoutModel",
            "_view_count": null,
            "_view_module": "@jupyter-widgets/base",
            "_view_module_version": "1.2.0",
            "_view_name": "LayoutView",
            "align_content": null,
            "align_items": null,
            "align_self": null,
            "border": null,
            "bottom": null,
            "display": null,
            "flex": null,
            "flex_flow": null,
            "grid_area": null,
            "grid_auto_columns": null,
            "grid_auto_flow": null,
            "grid_auto_rows": null,
            "grid_column": null,
            "grid_gap": null,
            "grid_row": null,
            "grid_template_areas": null,
            "grid_template_columns": null,
            "grid_template_rows": null,
            "height": null,
            "justify_content": null,
            "justify_items": null,
            "left": null,
            "margin": null,
            "max_height": null,
            "max_width": null,
            "min_height": null,
            "min_width": null,
            "object_fit": null,
            "object_position": null,
            "order": null,
            "overflow": null,
            "overflow_x": null,
            "overflow_y": null,
            "padding": null,
            "right": null,
            "top": null,
            "visibility": null,
            "width": null
          }
        },
        "6a394411bfcd4ba2bb5428ba0eeca2bd": {
          "model_module": "@jupyter-widgets/controls",
          "model_module_version": "1.5.0",
          "model_name": "DescriptionStyleModel",
          "state": {
            "_model_module": "@jupyter-widgets/controls",
            "_model_module_version": "1.5.0",
            "_model_name": "DescriptionStyleModel",
            "_view_count": null,
            "_view_module": "@jupyter-widgets/base",
            "_view_module_version": "1.2.0",
            "_view_name": "StyleView",
            "description_width": ""
          }
        },
        "6ab1b38385db43c198326c60dff3a58b": {
          "model_module": "@jupyter-widgets/base",
          "model_module_version": "1.2.0",
          "model_name": "LayoutModel",
          "state": {
            "_model_module": "@jupyter-widgets/base",
            "_model_module_version": "1.2.0",
            "_model_name": "LayoutModel",
            "_view_count": null,
            "_view_module": "@jupyter-widgets/base",
            "_view_module_version": "1.2.0",
            "_view_name": "LayoutView",
            "align_content": null,
            "align_items": null,
            "align_self": null,
            "border": null,
            "bottom": null,
            "display": null,
            "flex": null,
            "flex_flow": null,
            "grid_area": null,
            "grid_auto_columns": null,
            "grid_auto_flow": null,
            "grid_auto_rows": null,
            "grid_column": null,
            "grid_gap": null,
            "grid_row": null,
            "grid_template_areas": null,
            "grid_template_columns": null,
            "grid_template_rows": null,
            "height": null,
            "justify_content": null,
            "justify_items": null,
            "left": null,
            "margin": null,
            "max_height": null,
            "max_width": null,
            "min_height": null,
            "min_width": null,
            "object_fit": null,
            "object_position": null,
            "order": null,
            "overflow": null,
            "overflow_x": null,
            "overflow_y": null,
            "padding": null,
            "right": null,
            "top": null,
            "visibility": null,
            "width": null
          }
        },
        "755ea2a4908e454b8eead40345bda74b": {
          "model_module": "@jupyter-widgets/controls",
          "model_module_version": "1.5.0",
          "model_name": "FloatProgressModel",
          "state": {
            "_dom_classes": [],
            "_model_module": "@jupyter-widgets/controls",
            "_model_module_version": "1.5.0",
            "_model_name": "FloatProgressModel",
            "_view_count": null,
            "_view_module": "@jupyter-widgets/controls",
            "_view_module_version": "1.5.0",
            "_view_name": "ProgressView",
            "bar_style": "danger",
            "description": "",
            "description_tooltip": null,
            "layout": "IPY_MODEL_21010a540a874ce9abe47a290d508943",
            "max": 100000,
            "min": 0,
            "orientation": "horizontal",
            "style": "IPY_MODEL_c6dc93fe857448088ee60795542ae028",
            "value": 1100
          }
        },
        "c512503928894470b14e80246834270c": {
          "model_module": "@jupyter-widgets/controls",
          "model_module_version": "1.5.0",
          "model_name": "HTMLModel",
          "state": {
            "_dom_classes": [],
            "_model_module": "@jupyter-widgets/controls",
            "_model_module_version": "1.5.0",
            "_model_name": "HTMLModel",
            "_view_count": null,
            "_view_module": "@jupyter-widgets/controls",
            "_view_module_version": "1.5.0",
            "_view_name": "HTMLView",
            "description": "",
            "description_tooltip": null,
            "layout": "IPY_MODEL_6ab1b38385db43c198326c60dff3a58b",
            "placeholder": "​",
            "style": "IPY_MODEL_52867330335b42aaa227f1912128f50c",
            "value": " 1100/100000 [01:27&lt;1:51:20, 14.80it/s]"
          }
        },
        "c6dc93fe857448088ee60795542ae028": {
          "model_module": "@jupyter-widgets/controls",
          "model_module_version": "1.5.0",
          "model_name": "ProgressStyleModel",
          "state": {
            "_model_module": "@jupyter-widgets/controls",
            "_model_module_version": "1.5.0",
            "_model_name": "ProgressStyleModel",
            "_view_count": null,
            "_view_module": "@jupyter-widgets/base",
            "_view_module_version": "1.2.0",
            "_view_name": "StyleView",
            "bar_color": null,
            "description_width": ""
          }
        },
        "eb42ccc1e23e48599186b8bbf8100d52": {
          "model_module": "@jupyter-widgets/base",
          "model_module_version": "1.2.0",
          "model_name": "LayoutModel",
          "state": {
            "_model_module": "@jupyter-widgets/base",
            "_model_module_version": "1.2.0",
            "_model_name": "LayoutModel",
            "_view_count": null,
            "_view_module": "@jupyter-widgets/base",
            "_view_module_version": "1.2.0",
            "_view_name": "LayoutView",
            "align_content": null,
            "align_items": null,
            "align_self": null,
            "border": null,
            "bottom": null,
            "display": null,
            "flex": null,
            "flex_flow": null,
            "grid_area": null,
            "grid_auto_columns": null,
            "grid_auto_flow": null,
            "grid_auto_rows": null,
            "grid_column": null,
            "grid_gap": null,
            "grid_row": null,
            "grid_template_areas": null,
            "grid_template_columns": null,
            "grid_template_rows": null,
            "height": null,
            "justify_content": null,
            "justify_items": null,
            "left": null,
            "margin": null,
            "max_height": null,
            "max_width": null,
            "min_height": null,
            "min_width": null,
            "object_fit": null,
            "object_position": null,
            "order": null,
            "overflow": null,
            "overflow_x": null,
            "overflow_y": null,
            "padding": null,
            "right": null,
            "top": null,
            "visibility": null,
            "width": null
          }
        }
      }
    }
  },
  "nbformat": 4,
  "nbformat_minor": 0
}
