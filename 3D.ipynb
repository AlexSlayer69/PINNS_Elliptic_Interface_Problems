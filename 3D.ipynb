{
  "cells": [
    {
      "cell_type": "markdown",
      "metadata": {},
      "source": [
        "### Imports"
      ]
    },
    {
      "cell_type": "code",
      "execution_count": null,
      "metadata": {
        "id": "qxpPGWQa_Nl1"
      },
      "outputs": [],
      "source": [
        "import torch\n",
        "import torch.nn as nn\n",
        "import torch.nn.functional as F\n",
        "import math\n",
        "import numpy as np\n",
        "import matplotlib.pyplot as plt\n",
        "import matplotlib.cm as cm\n",
        "from matplotlib.colors import Normalize\n",
        "from tqdm.auto import tqdm\n",
        "import plotly.graph_objects as go\n",
        "import sys\n",
        "import os \n",
        "import warnings\n",
        "\n",
        "warnings.filterwarnings(\"ignore\")"
      ]
    },
    {
      "cell_type": "markdown",
      "metadata": {},
      "source": [
        "### Custom"
      ]
    },
    {
      "cell_type": "code",
      "execution_count": null,
      "metadata": {},
      "outputs": [],
      "source": [
        "sys.path.append(os.path.abspath('./PINNS/'))\n",
        "sys.path.append(os.path.abspath('./PDE/'))\n",
        "sys.path.append(os.path.abspath('./Losses/'))\n",
        "from Poisson3D import Elliptical\n",
        "from P3DELoss import P3DELoss\n",
        "from IPINN import IPINN"
      ]
    },
    {
      "cell_type": "code",
      "execution_count": null,
      "metadata": {
        "colab": {
          "base_uri": "https://localhost:8080/"
        },
        "id": "MdQ3iIb0_Nl5",
        "outputId": "6921b567-35d9-47a9-b1c0-d18ce3c08538"
      },
      "outputs": [],
      "source": [
        "torch.cuda.empty_cache()\n",
        "device = torch.device(\"cuda:0\" if torch.cuda.is_available() else \"cpu\")\n",
        "device"
      ]
    },
    {
      "cell_type": "markdown",
      "metadata": {},
      "source": [
        "## Three Dimensional Elliptical Interface Problem"
      ]
    },
    {
      "cell_type": "markdown",
      "metadata": {},
      "source": [
        "### Poisson with Elliptical Interface\n",
        "\n",
        "$Ω = [−1, 1] × [−1, 1] × [−1, 1]$, $Γ_{int} = \\{x : ψ(x) = 0, ψ(x) = 2x^2 + 3y^2 + 6z^2 − 1.69\\}$<br/> subdivides the domain into two non-overlapping subdomains: <br/> $Ω_1 = \\{x : ψ(x) ≤ 0\\}$ and $Ω_2 = \\{x : ψ(x) > 0\\}$ <br/> The following PDE is considered:\n",
        "Given $f_1 = 12, f_2 = 0, κ_1 = 2$, and $κ_2 = 60$, find $u_m$ (for $m = 1,2$) such that: <br/>\n",
        "\n",
        "- $∇ · (κ_m∇u_m) = f_m$ in $Ω_m$\n",
        "- $u_2 = Λ^d_2$ on $∂Ω^d_2$\n",
        "- $[[u]] = (x + y + z) - (x^2 + y^2 + z^2)$  on  $Γ_{int}$\n",
        "- $[[κ∇u]] · ∇Γ_{int} = (60 − 4x)4x + (60 − 4y)6y + (60 − 4z)12z$ on $Γ_{int}$\n",
        "\n",
        "where $∂Ω^d_2 = \\{x : x = −1|1 ∪ y = −1|1 ∪ z = −1|1\\}$ is the Dirichlet boundary specified as per the following closed-form analytical solution:\n",
        "\n",
        "$$ u(x, y, z) = \\left\\{ \n",
        "                \\begin{array}{ll}\n",
        "                        x^2 + y^2 + z^2 & \\text{in } Ω_1 \\\\\n",
        "                        x + y + z & \\text{in } Ω_2 \\\\\n",
        "                \\end{array}\n",
        "                \\right. $$"
      ]
    },
    {
      "cell_type": "code",
      "execution_count": null,
      "metadata": {
        "id": "ywYGI9Lm_Nl6"
      },
      "outputs": [],
      "source": [
        "#define the global parameters\n",
        "K = [2,60]\n",
        "#get the exact solution\n",
        "exact = Elliptical()\n",
        "#get the loss function\n",
        "elliptical_loss = P3DELoss(100000,1000,1000,K)"
      ]
    },
    {
      "cell_type": "code",
      "execution_count": null,
      "metadata": {},
      "outputs": [],
      "source": [
        "#Plot the analytical solution\n",
        "X, Y, Z = np.mgrid[-1:1:30j, -1:1:30j, -1:1:30j]\n",
        "values = exact.equation(X,Y,Z)\n",
        "\n",
        "fig = go.Figure(data=go.Volume(\n",
        "    x=X.flatten(),\n",
        "    y=Y.flatten(),\n",
        "    z=Z.flatten(),\n",
        "    value=values.flatten(),\n",
        "    isomin=-3,\n",
        "    isomax=3,\n",
        "    opacity=0.4, # needs to be small to see through all surfaces\n",
        "    surface_count=20, # needs to be a large number for good volume rendering\n",
        "    colorscale='Plasma'\n",
        "    ))\n",
        "fig.show()"
      ]
    },
    {
      "cell_type": "code",
      "execution_count": null,
      "metadata": {
        "id": "loSwAZpj_Nl8"
      },
      "outputs": [],
      "source": [
        "#Get the activation function\n",
        "def cond_func(x,condition):\n",
        "    if (condition == '0'):\n",
        "        return F.silu(x)\n",
        "    elif (condition == '1'):\n",
        "        return F.tanh(x)"
      ]
    },
    {
      "cell_type": "code",
      "execution_count": null,
      "metadata": {},
      "outputs": [],
      "source": [
        "#define the model\n",
        "ipinn = IPINN(dimension = 3,hidden_size = 12,depth = 4)\n",
        "#Get the loss_function\n",
        "ipinn.setLoss(lambda x: elliptical_loss.loss(x,cond_func))\n",
        "#Train the model\n",
        "ipinn.train(iterations = 10000)"
      ]
    },
    {
      "cell_type": "code",
      "execution_count": null,
      "metadata": {},
      "outputs": [],
      "source": [
        "#get the activations\n",
        "activations = [F.silu,F.tanh]\n",
        "#Plot the results\n",
        "# Evaluate the models\n",
        "x = torch.arange(-1, 1, 0.04)\n",
        "y = torch.arange(-1, 1, 0.04)\n",
        "z = torch.arange(-1, 1, 0.04)\n",
        "X, Y, Z = torch.meshgrid(x, y, z)\n",
        "XYZ = torch.stack((X, Y, Z), dim=-1).reshape(-1, 3).to(device)\n",
        "u1, u2 = ipinn.eval(XYZ,activations)\n",
        "result = torch.zeros_like(u1).cpu().numpy().reshape(X.shape)\n",
        "u1 = u1.cpu().numpy().reshape(X.shape)\n",
        "u2 = u2.cpu().numpy().reshape(X.shape)\n",
        "mask = (2*X**2 + 3*Y**2 + 6*Z**2 - 1.69 <= 0)\n",
        "result[mask] = u1[mask]\n",
        "result[~mask] = u2[~mask]\n",
        "exact_sol = exact.equation(X,Y,Z)\n",
        "print('RMSE:',np.sqrt(np.mean(np.square(exact_sol - result))))"
      ]
    },
    {
      "cell_type": "code",
      "execution_count": null,
      "metadata": {},
      "outputs": [],
      "source": [
        "fig = go.Figure(data=go.Volume(\n",
        "    x=X.flatten(),\n",
        "    y=Y.flatten(),\n",
        "    z=Z.flatten(),\n",
        "    value=result.flatten(),\n",
        "    isomin=-3,\n",
        "    isomax=3,\n",
        "    opacity=0.2, # needs to be small to see through all surfaces\n",
        "    surface_count=20, # needs to be a large number for good volume rendering\n",
        "    colorscale='Plasma'\n",
        "    ))\n",
        "fig.show()"
      ]
    },
    {
      "cell_type": "code",
      "execution_count": null,
      "metadata": {},
      "outputs": [],
      "source": [
        "fig = go.Figure(data=go.Volume(\n",
        "    x=X.flatten(),\n",
        "    y=Y.flatten(),\n",
        "    z=Z.flatten(),\n",
        "    value=(result - exact_sol).flatten(),\n",
        "    isomin=-0.05,\n",
        "    isomax=0.05,\n",
        "    opacity=0.2, # needs to be small to see through all surfaces\n",
        "    surface_count=20, # needs to be a large number for good volume rendering\n",
        "    colorscale='Plasma'\n",
        "    ))\n",
        "fig.show()"
      ]
    },
    {
      "cell_type": "markdown",
      "metadata": {},
      "source": [
        "### Results\n",
        "With $12$ hidden layers and depth of $4$ the ipinn model gets an RMSE of $5.3 × 10^{-3}$ after $10000$ iterations "
      ]
    }
  ],
  "metadata": {
    "accelerator": "GPU",
    "colab": {
      "gpuType": "T4",
      "provenance": []
    },
    "kernelspec": {
      "display_name": "Python 3",
      "name": "python3"
    },
    "language_info": {
      "codemirror_mode": {
        "name": "ipython",
        "version": 3
      },
      "file_extension": ".py",
      "mimetype": "text/x-python",
      "name": "python",
      "nbconvert_exporter": "python",
      "pygments_lexer": "ipython3",
      "version": "3.10.6"
    },
    "widgets": {
      "application/vnd.jupyter.widget-state+json": {
        "21010a540a874ce9abe47a290d508943": {
          "model_module": "@jupyter-widgets/base",
          "model_module_version": "1.2.0",
          "model_name": "LayoutModel",
          "state": {
            "_model_module": "@jupyter-widgets/base",
            "_model_module_version": "1.2.0",
            "_model_name": "LayoutModel",
            "_view_count": null,
            "_view_module": "@jupyter-widgets/base",
            "_view_module_version": "1.2.0",
            "_view_name": "LayoutView",
            "align_content": null,
            "align_items": null,
            "align_self": null,
            "border": null,
            "bottom": null,
            "display": null,
            "flex": null,
            "flex_flow": null,
            "grid_area": null,
            "grid_auto_columns": null,
            "grid_auto_flow": null,
            "grid_auto_rows": null,
            "grid_column": null,
            "grid_gap": null,
            "grid_row": null,
            "grid_template_areas": null,
            "grid_template_columns": null,
            "grid_template_rows": null,
            "height": null,
            "justify_content": null,
            "justify_items": null,
            "left": null,
            "margin": null,
            "max_height": null,
            "max_width": null,
            "min_height": null,
            "min_width": null,
            "object_fit": null,
            "object_position": null,
            "order": null,
            "overflow": null,
            "overflow_x": null,
            "overflow_y": null,
            "padding": null,
            "right": null,
            "top": null,
            "visibility": null,
            "width": null
          }
        },
        "4ca04b6e435f48c7ae678252a9df3317": {
          "model_module": "@jupyter-widgets/controls",
          "model_module_version": "1.5.0",
          "model_name": "HBoxModel",
          "state": {
            "_dom_classes": [],
            "_model_module": "@jupyter-widgets/controls",
            "_model_module_version": "1.5.0",
            "_model_name": "HBoxModel",
            "_view_count": null,
            "_view_module": "@jupyter-widgets/controls",
            "_view_module_version": "1.5.0",
            "_view_name": "HBoxView",
            "box_style": "",
            "children": [
              "IPY_MODEL_5a589c15b7fc4f8dab8ac29e4cda8999",
              "IPY_MODEL_755ea2a4908e454b8eead40345bda74b",
              "IPY_MODEL_c512503928894470b14e80246834270c"
            ],
            "layout": "IPY_MODEL_eb42ccc1e23e48599186b8bbf8100d52"
          }
        },
        "52867330335b42aaa227f1912128f50c": {
          "model_module": "@jupyter-widgets/controls",
          "model_module_version": "1.5.0",
          "model_name": "DescriptionStyleModel",
          "state": {
            "_model_module": "@jupyter-widgets/controls",
            "_model_module_version": "1.5.0",
            "_model_name": "DescriptionStyleModel",
            "_view_count": null,
            "_view_module": "@jupyter-widgets/base",
            "_view_module_version": "1.2.0",
            "_view_name": "StyleView",
            "description_width": ""
          }
        },
        "5a589c15b7fc4f8dab8ac29e4cda8999": {
          "model_module": "@jupyter-widgets/controls",
          "model_module_version": "1.5.0",
          "model_name": "HTMLModel",
          "state": {
            "_dom_classes": [],
            "_model_module": "@jupyter-widgets/controls",
            "_model_module_version": "1.5.0",
            "_model_name": "HTMLModel",
            "_view_count": null,
            "_view_module": "@jupyter-widgets/controls",
            "_view_module_version": "1.5.0",
            "_view_name": "HTMLView",
            "description": "",
            "description_tooltip": null,
            "layout": "IPY_MODEL_606a06587a5c48b2b2243ba5086b8760",
            "placeholder": "​",
            "style": "IPY_MODEL_6a394411bfcd4ba2bb5428ba0eeca2bd",
            "value": "  1%"
          }
        },
        "606a06587a5c48b2b2243ba5086b8760": {
          "model_module": "@jupyter-widgets/base",
          "model_module_version": "1.2.0",
          "model_name": "LayoutModel",
          "state": {
            "_model_module": "@jupyter-widgets/base",
            "_model_module_version": "1.2.0",
            "_model_name": "LayoutModel",
            "_view_count": null,
            "_view_module": "@jupyter-widgets/base",
            "_view_module_version": "1.2.0",
            "_view_name": "LayoutView",
            "align_content": null,
            "align_items": null,
            "align_self": null,
            "border": null,
            "bottom": null,
            "display": null,
            "flex": null,
            "flex_flow": null,
            "grid_area": null,
            "grid_auto_columns": null,
            "grid_auto_flow": null,
            "grid_auto_rows": null,
            "grid_column": null,
            "grid_gap": null,
            "grid_row": null,
            "grid_template_areas": null,
            "grid_template_columns": null,
            "grid_template_rows": null,
            "height": null,
            "justify_content": null,
            "justify_items": null,
            "left": null,
            "margin": null,
            "max_height": null,
            "max_width": null,
            "min_height": null,
            "min_width": null,
            "object_fit": null,
            "object_position": null,
            "order": null,
            "overflow": null,
            "overflow_x": null,
            "overflow_y": null,
            "padding": null,
            "right": null,
            "top": null,
            "visibility": null,
            "width": null
          }
        },
        "6a394411bfcd4ba2bb5428ba0eeca2bd": {
          "model_module": "@jupyter-widgets/controls",
          "model_module_version": "1.5.0",
          "model_name": "DescriptionStyleModel",
          "state": {
            "_model_module": "@jupyter-widgets/controls",
            "_model_module_version": "1.5.0",
            "_model_name": "DescriptionStyleModel",
            "_view_count": null,
            "_view_module": "@jupyter-widgets/base",
            "_view_module_version": "1.2.0",
            "_view_name": "StyleView",
            "description_width": ""
          }
        },
        "6ab1b38385db43c198326c60dff3a58b": {
          "model_module": "@jupyter-widgets/base",
          "model_module_version": "1.2.0",
          "model_name": "LayoutModel",
          "state": {
            "_model_module": "@jupyter-widgets/base",
            "_model_module_version": "1.2.0",
            "_model_name": "LayoutModel",
            "_view_count": null,
            "_view_module": "@jupyter-widgets/base",
            "_view_module_version": "1.2.0",
            "_view_name": "LayoutView",
            "align_content": null,
            "align_items": null,
            "align_self": null,
            "border": null,
            "bottom": null,
            "display": null,
            "flex": null,
            "flex_flow": null,
            "grid_area": null,
            "grid_auto_columns": null,
            "grid_auto_flow": null,
            "grid_auto_rows": null,
            "grid_column": null,
            "grid_gap": null,
            "grid_row": null,
            "grid_template_areas": null,
            "grid_template_columns": null,
            "grid_template_rows": null,
            "height": null,
            "justify_content": null,
            "justify_items": null,
            "left": null,
            "margin": null,
            "max_height": null,
            "max_width": null,
            "min_height": null,
            "min_width": null,
            "object_fit": null,
            "object_position": null,
            "order": null,
            "overflow": null,
            "overflow_x": null,
            "overflow_y": null,
            "padding": null,
            "right": null,
            "top": null,
            "visibility": null,
            "width": null
          }
        },
        "755ea2a4908e454b8eead40345bda74b": {
          "model_module": "@jupyter-widgets/controls",
          "model_module_version": "1.5.0",
          "model_name": "FloatProgressModel",
          "state": {
            "_dom_classes": [],
            "_model_module": "@jupyter-widgets/controls",
            "_model_module_version": "1.5.0",
            "_model_name": "FloatProgressModel",
            "_view_count": null,
            "_view_module": "@jupyter-widgets/controls",
            "_view_module_version": "1.5.0",
            "_view_name": "ProgressView",
            "bar_style": "danger",
            "description": "",
            "description_tooltip": null,
            "layout": "IPY_MODEL_21010a540a874ce9abe47a290d508943",
            "max": 100000,
            "min": 0,
            "orientation": "horizontal",
            "style": "IPY_MODEL_c6dc93fe857448088ee60795542ae028",
            "value": 1100
          }
        },
        "c512503928894470b14e80246834270c": {
          "model_module": "@jupyter-widgets/controls",
          "model_module_version": "1.5.0",
          "model_name": "HTMLModel",
          "state": {
            "_dom_classes": [],
            "_model_module": "@jupyter-widgets/controls",
            "_model_module_version": "1.5.0",
            "_model_name": "HTMLModel",
            "_view_count": null,
            "_view_module": "@jupyter-widgets/controls",
            "_view_module_version": "1.5.0",
            "_view_name": "HTMLView",
            "description": "",
            "description_tooltip": null,
            "layout": "IPY_MODEL_6ab1b38385db43c198326c60dff3a58b",
            "placeholder": "​",
            "style": "IPY_MODEL_52867330335b42aaa227f1912128f50c",
            "value": " 1100/100000 [01:27&lt;1:51:20, 14.80it/s]"
          }
        },
        "c6dc93fe857448088ee60795542ae028": {
          "model_module": "@jupyter-widgets/controls",
          "model_module_version": "1.5.0",
          "model_name": "ProgressStyleModel",
          "state": {
            "_model_module": "@jupyter-widgets/controls",
            "_model_module_version": "1.5.0",
            "_model_name": "ProgressStyleModel",
            "_view_count": null,
            "_view_module": "@jupyter-widgets/base",
            "_view_module_version": "1.2.0",
            "_view_name": "StyleView",
            "bar_color": null,
            "description_width": ""
          }
        },
        "eb42ccc1e23e48599186b8bbf8100d52": {
          "model_module": "@jupyter-widgets/base",
          "model_module_version": "1.2.0",
          "model_name": "LayoutModel",
          "state": {
            "_model_module": "@jupyter-widgets/base",
            "_model_module_version": "1.2.0",
            "_model_name": "LayoutModel",
            "_view_count": null,
            "_view_module": "@jupyter-widgets/base",
            "_view_module_version": "1.2.0",
            "_view_name": "LayoutView",
            "align_content": null,
            "align_items": null,
            "align_self": null,
            "border": null,
            "bottom": null,
            "display": null,
            "flex": null,
            "flex_flow": null,
            "grid_area": null,
            "grid_auto_columns": null,
            "grid_auto_flow": null,
            "grid_auto_rows": null,
            "grid_column": null,
            "grid_gap": null,
            "grid_row": null,
            "grid_template_areas": null,
            "grid_template_columns": null,
            "grid_template_rows": null,
            "height": null,
            "justify_content": null,
            "justify_items": null,
            "left": null,
            "margin": null,
            "max_height": null,
            "max_width": null,
            "min_height": null,
            "min_width": null,
            "object_fit": null,
            "object_position": null,
            "order": null,
            "overflow": null,
            "overflow_x": null,
            "overflow_y": null,
            "padding": null,
            "right": null,
            "top": null,
            "visibility": null,
            "width": null
          }
        }
      }
    }
  },
  "nbformat": 4,
  "nbformat_minor": 0
}
